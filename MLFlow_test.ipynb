{
 "cells": [
  {
   "cell_type": "markdown",
   "id": "f73522e5-b820-4ca4-9975-1902b83a00a8",
   "metadata": {},
   "source": [
    "## Tracking MLFlow"
   ]
  },
  {
   "cell_type": "code",
   "execution_count": 2,
   "id": "ec58c3c2-cac9-4127-8d5d-eb7ea042c63f",
   "metadata": {},
   "outputs": [],
   "source": [
    "import mlflow\n",
    "from mlflow.models import infer_signature\n",
    "\n",
    "import pandas as pd\n",
    "from sklearn import datasets\n",
    "from sklearn.model_selection import train_test_split\n",
    "from sklearn.linear_model import LogisticRegression\n",
    "from sklearn.metrics import accuracy_score, precision_score, recall_score, f1_score\n",
    "\n",
    "\n",
    "# Load the Iris dataset\n",
    "X, y = datasets.load_iris(return_X_y=True)\n",
    "\n",
    "# Split the data into training and test sets\n",
    "X_train, X_test, y_train, y_test = train_test_split(\n",
    "    X, y, test_size=0.2, random_state=42\n",
    ")\n",
    "\n",
    "# Define the model hyperparameters\n",
    "params = {\n",
    "    \"solver\": \"lbfgs\",\n",
    "    \"max_iter\": 500,\n",
    "    \"multi_class\": \"auto\",\n",
    "    \"random_state\": 8888,\n",
    "}\n",
    "\n",
    "# Train the model\n",
    "lr = LogisticRegression(**params)\n",
    "lr.fit(X_train, y_train)\n",
    "\n",
    "# Predict on the test set\n",
    "y_pred = lr.predict(X_test)\n",
    "\n",
    "# Calculate metrics\n",
    "accuracy = accuracy_score(y_test, y_pred)\n"
   ]
  },
  {
   "cell_type": "code",
   "execution_count": 4,
   "id": "73d829a9-4a85-4972-9dc3-52187d962a14",
   "metadata": {},
   "outputs": [
    {
     "name": "stderr",
     "output_type": "stream",
     "text": [
      "Registered model 'tracking-quickstart' already exists. Creating a new version of this model...\n",
      "2024/11/22 15:24:14 INFO mlflow.store.model_registry.abstract_store: Waiting up to 300 seconds for model version to finish creation. Model name: tracking-quickstart, version 4\n",
      "Created version '4' of model 'tracking-quickstart'.\n",
      "2024/11/22 15:24:14 INFO mlflow.tracking._tracking_service.client: 🏃 View run efficient-turtle-368 at: http://127.0.0.1:5000/#/experiments/767523613443453729/runs/5961b9381632465dafe145c0c0c40b20.\n",
      "2024/11/22 15:24:14 INFO mlflow.tracking._tracking_service.client: 🧪 View experiment at: http://127.0.0.1:5000/#/experiments/767523613443453729.\n"
     ]
    }
   ],
   "source": [
    "# Set our tracking server uri for logging\n",
    "mlflow.set_tracking_uri(uri=\"http://127.0.0.1:5000\")\n",
    "\n",
    "# Create a new MLflow Experiment\n",
    "mlflow.set_experiment(\"MLflow Quickstart\")\n",
    "\n",
    "# Start an MLflow run\n",
    "with mlflow.start_run():\n",
    "    # Log the hyperparameters\n",
    "    mlflow.log_params(params)\n",
    "\n",
    "    # Log the loss metric\n",
    "    mlflow.log_metric(\"accuracy\", accuracy)\n",
    "\n",
    "    # Set a tag that we can use to remind ourselves what this run was for\n",
    "    mlflow.set_tag(\"Training Info\", \"Basic LR model for iris data\")\n",
    "\n",
    "    # Infer the model signature\n",
    "    signature = infer_signature(X_train, lr.predict(X_train))\n",
    "\n",
    "    # Log the model\n",
    "    model_info = mlflow.sklearn.log_model(\n",
    "        sk_model=lr,\n",
    "        artifact_path=\"iris_model\",\n",
    "        signature=signature,\n",
    "        input_example=X_train,\n",
    "        registered_model_name=\"tracking-quickstart\",\n",
    "    )\n"
   ]
  },
  {
   "cell_type": "code",
   "execution_count": 5,
   "id": "f1f793c8-6ccf-428a-9f95-e1197ec830b5",
   "metadata": {},
   "outputs": [
    {
     "data": {
      "text/html": [
       "<div>\n",
       "<style scoped>\n",
       "    .dataframe tbody tr th:only-of-type {\n",
       "        vertical-align: middle;\n",
       "    }\n",
       "\n",
       "    .dataframe tbody tr th {\n",
       "        vertical-align: top;\n",
       "    }\n",
       "\n",
       "    .dataframe thead th {\n",
       "        text-align: right;\n",
       "    }\n",
       "</style>\n",
       "<table border=\"1\" class=\"dataframe\">\n",
       "  <thead>\n",
       "    <tr style=\"text-align: right;\">\n",
       "      <th></th>\n",
       "      <th>sepal length (cm)</th>\n",
       "      <th>sepal width (cm)</th>\n",
       "      <th>petal length (cm)</th>\n",
       "      <th>petal width (cm)</th>\n",
       "      <th>actual_class</th>\n",
       "      <th>predicted_class</th>\n",
       "    </tr>\n",
       "  </thead>\n",
       "  <tbody>\n",
       "    <tr>\n",
       "      <th>0</th>\n",
       "      <td>6.1</td>\n",
       "      <td>2.8</td>\n",
       "      <td>4.7</td>\n",
       "      <td>1.2</td>\n",
       "      <td>1</td>\n",
       "      <td>1</td>\n",
       "    </tr>\n",
       "    <tr>\n",
       "      <th>1</th>\n",
       "      <td>5.7</td>\n",
       "      <td>3.8</td>\n",
       "      <td>1.7</td>\n",
       "      <td>0.3</td>\n",
       "      <td>0</td>\n",
       "      <td>0</td>\n",
       "    </tr>\n",
       "    <tr>\n",
       "      <th>2</th>\n",
       "      <td>7.7</td>\n",
       "      <td>2.6</td>\n",
       "      <td>6.9</td>\n",
       "      <td>2.3</td>\n",
       "      <td>2</td>\n",
       "      <td>2</td>\n",
       "    </tr>\n",
       "    <tr>\n",
       "      <th>3</th>\n",
       "      <td>6.0</td>\n",
       "      <td>2.9</td>\n",
       "      <td>4.5</td>\n",
       "      <td>1.5</td>\n",
       "      <td>1</td>\n",
       "      <td>1</td>\n",
       "    </tr>\n",
       "  </tbody>\n",
       "</table>\n",
       "</div>"
      ],
      "text/plain": [
       "   sepal length (cm)  sepal width (cm)  petal length (cm)  petal width (cm)  \\\n",
       "0                6.1               2.8                4.7               1.2   \n",
       "1                5.7               3.8                1.7               0.3   \n",
       "2                7.7               2.6                6.9               2.3   \n",
       "3                6.0               2.9                4.5               1.5   \n",
       "\n",
       "   actual_class  predicted_class  \n",
       "0             1                1  \n",
       "1             0                0  \n",
       "2             2                2  \n",
       "3             1                1  "
      ]
     },
     "execution_count": 5,
     "metadata": {},
     "output_type": "execute_result"
    }
   ],
   "source": [
    "# Load the model back for predictions as a generic Python Function model\n",
    "model_uri = 'mlflow-artifacts:/767523613443453729/e1f860a07d84445ea97b80939a57fab7/artifacts/iris_model'\n",
    "loaded_model = mlflow.pyfunc.load_model(model_uri=model_uri)\n",
    "\n",
    "predictions = loaded_model.predict(X_test)\n",
    "\n",
    "iris_feature_names = datasets.load_iris().feature_names\n",
    "\n",
    "result = pd.DataFrame(X_test, columns=iris_feature_names)\n",
    "result[\"actual_class\"] = y_test\n",
    "result[\"predicted_class\"] = predictions\n",
    "\n",
    "result[:4]"
   ]
  },
  {
   "cell_type": "code",
   "execution_count": null,
   "id": "c308faa9",
   "metadata": {},
   "outputs": [],
   "source": [
    "break"
   ]
  },
  {
   "cell_type": "markdown",
   "id": "34d3b9fc-9022-48b7-871a-b27cb070415c",
   "metadata": {},
   "source": [
    "# Chargement d'une run spécifique d'une expérience réalisée sur MLFlow"
   ]
  },
  {
   "cell_type": "markdown",
   "id": "39314b2c-2a41-4d39-a9d5-1750273a20cf",
   "metadata": {
    "jp-MarkdownHeadingCollapsed": true
   },
   "source": [
    "## Liste des runs dans une expérience spécifique"
   ]
  },
  {
   "cell_type": "code",
   "execution_count": 20,
   "id": "a8d8b38f-de4c-4dd0-aaf5-544a58a64640",
   "metadata": {},
   "outputs": [
    {
     "name": "stdout",
     "output_type": "stream",
     "text": [
      "ID de l'expérience : 767523613443453729\n",
      "3 runs trouvées dans l'expérience 'MLflow Quickstart'.\n",
      "Run 1: ID=1e3ed0bef25a429d9863777008ba11d1, Start Time=1732193496195, Tags={'mlflow.user': 'photoli93', 'mlflow.runName': 'wistful-bear-622', 'mlflow.source.name': '/opt/anaconda3/envs/ocr_p7/lib/python3.8/site-packages/ipykernel_launcher.py', 'mlflow.log-model.history': '[{\"run_id\": \"1e3ed0bef25a429d9863777008ba11d1\", \"artifact_path\": \"iris_model\", \"utc_time_created\": \"2024-11-21 12:51:36.241990\", \"model_uuid\": \"8019383ca1e44fb296188727af386d6a\", \"flavors\": {\"python_function\": {\"model_path\": \"model.pkl\", \"predict_fn\": \"predict\", \"loader_module\": \"mlflow.sklearn\", \"python_version\": \"3.8.20\", \"env\": {\"conda\": \"conda.yaml\", \"virtualenv\": \"python_env.yaml\"}}, \"sklearn\": {\"pickled_model\": \"model.pkl\", \"sklearn_version\": \"1.3.2\", \"serialization_format\": \"cloudpickle\", \"code\": null}}}]', 'mlflow.source.type': 'LOCAL', 'Training Info': 'Basic LR model for iris data'}\n",
      "Run 2: ID=e1f860a07d84445ea97b80939a57fab7, Start Time=1732189971443, Tags={'mlflow.user': 'photoli93', 'mlflow.runName': 'shivering-mule-574', 'mlflow.source.name': '/opt/anaconda3/envs/ocr_p7/lib/python3.8/site-packages/ipykernel_launcher.py', 'mlflow.log-model.history': '[{\"run_id\": \"e1f860a07d84445ea97b80939a57fab7\", \"artifact_path\": \"iris_model\", \"utc_time_created\": \"2024-11-21 11:52:51.506720\", \"model_uuid\": \"abbbf6bdc72f47ff8ecb59c529486ef1\", \"flavors\": {\"python_function\": {\"model_path\": \"model.pkl\", \"predict_fn\": \"predict\", \"loader_module\": \"mlflow.sklearn\", \"python_version\": \"3.8.20\", \"env\": {\"conda\": \"conda.yaml\", \"virtualenv\": \"python_env.yaml\"}}, \"sklearn\": {\"pickled_model\": \"model.pkl\", \"sklearn_version\": \"1.3.2\", \"serialization_format\": \"cloudpickle\", \"code\": null}}}]', 'mlflow.source.type': 'LOCAL', 'Training Info': 'Basic LR model for iris data'}\n",
      "Run 3: ID=6403a55bd6ab445e9d4a596d07bf5964, Start Time=1731675745958, Tags={'mlflow.user': 'photoli93', 'mlflow.runName': 'abundant-mule-155', 'mlflow.source.name': '/opt/anaconda3/envs/ocr_p7/lib/python3.8/site-packages/ipykernel_launcher.py', 'mlflow.log-model.history': '[{\"run_id\": \"6403a55bd6ab445e9d4a596d07bf5964\", \"artifact_path\": \"iris_model\", \"utc_time_created\": \"2024-11-15 13:02:25.991052\", \"model_uuid\": \"2c125a32992b4d3caa058cbb9bc05e7e\", \"flavors\": {\"python_function\": {\"model_path\": \"model.pkl\", \"predict_fn\": \"predict\", \"loader_module\": \"mlflow.sklearn\", \"python_version\": \"3.8.20\", \"env\": {\"conda\": \"conda.yaml\", \"virtualenv\": \"python_env.yaml\"}}, \"sklearn\": {\"pickled_model\": \"model.pkl\", \"sklearn_version\": \"1.3.2\", \"serialization_format\": \"cloudpickle\", \"code\": null}}}]', 'mlflow.source.type': 'LOCAL', 'Training Info': 'Basic LR model for iris data'}\n"
     ]
    }
   ],
   "source": [
    "from mlflow.tracking import MlflowClient\n",
    "\n",
    "# Initialiser le client MLflow\n",
    "client = MlflowClient()\n",
    "\n",
    "# Nom de l'expérience\n",
    "experiment_name = \"MLflow Quickstart\"\n",
    "\n",
    "# Étape 1 : Récupérer l'expérience par son nom\n",
    "experiment = client.get_experiment_by_name(experiment_name)\n",
    "if experiment is None:\n",
    "    raise ValueError(f\"Aucune expérience trouvée avec le nom '{experiment_name}'\")\n",
    "experiment_id = experiment.experiment_id\n",
    "print(f\"ID de l'expérience : {experiment_id}\")\n",
    "\n",
    "# Étape 2 : Lister les runs de l'expérience\n",
    "runs = client.search_runs(\n",
    "    experiment_ids=[experiment_id],\n",
    "    filter_string=\"\",  # Aucun filtre (récupérer toutes les runs)\n",
    "    order_by=[\"start_time DESC\"],  # Trier par la plus récente\n",
    "    max_results=10  # Limiter à 10 résultats\n",
    ")\n",
    "print(f\"{len(runs)} runs trouvées dans l'expérience '{experiment_name}'.\")\n",
    "\n",
    "# Afficher les informations des runs trouvées\n",
    "for i, run in enumerate(runs):\n",
    "    print(f\"Run {i + 1}: ID={run.info.run_id}, Start Time={run.info.start_time}, Tags={run.data.tags}\")"
   ]
  },
  {
   "cell_type": "markdown",
   "id": "73bb651f-3ab9-428d-a3bd-8027dd3f04b7",
   "metadata": {
    "jp-MarkdownHeadingCollapsed": true
   },
   "source": [
    "## Sélectionner une run spécifique"
   ]
  },
  {
   "cell_type": "code",
   "execution_count": 70,
   "id": "01c4e5a9-209c-49ff-92bf-41f5a86d0ef5",
   "metadata": {},
   "outputs": [
    {
     "name": "stdout",
     "output_type": "stream",
     "text": [
      "Run sélectionnée : ID=6403a55bd6ab445e9d4a596d07bf5964\n",
      "Run sélectionnée : Name=abundant-mule-155\n"
     ]
    }
   ],
   "source": [
    "# Étape 3 : Sélectionner une run spécifique\n",
    "# Exemple : Choisir la première run (ou en filtrer une par tag ou ID)\n",
    "selected_run = runs[2]\n",
    "run_id = selected_run.info.run_id\n",
    "run_name = selected_run.info.run_name\n",
    "print(f\"Run sélectionnée : ID={run_id}\")\n",
    "print(f\"Run sélectionnée : Name={run_name}\")"
   ]
  },
  {
   "cell_type": "markdown",
   "id": "2c33fcec-2bcd-4c0d-bba1-0be36573526f",
   "metadata": {
    "jp-MarkdownHeadingCollapsed": true
   },
   "source": [
    "## Charger le modèle logué"
   ]
  },
  {
   "cell_type": "code",
   "execution_count": 71,
   "id": "650545f1-2175-4d7e-8ecf-b6fb88d6f61c",
   "metadata": {},
   "outputs": [
    {
     "name": "stdout",
     "output_type": "stream",
     "text": [
      "URI du modèle : runs:/6403a55bd6ab445e9d4a596d07bf5964/iris_model\n"
     ]
    }
   ],
   "source": [
    "# Étape 4 : Charger un artefact ou un modèle logué dans cette run\n",
    "# Exemple : Charger un modèle logué\n",
    "artifact_path = 'iris_model'\n",
    "model_uri = f\"runs:/{run_id}/{artifact_path}\"\n",
    "print(f\"URI du modèle : {model_uri}\")\n",
    "\n",
    "# Charger le modèle\n",
    "loaded_model = mlflow.pyfunc.load_model(model_uri)"
   ]
  },
  {
   "cell_type": "code",
   "execution_count": 72,
   "id": "cf20d23e-931a-47c7-9992-d59c8e6ca45a",
   "metadata": {},
   "outputs": [
    {
     "data": {
      "text/html": [
       "<div>\n",
       "<style scoped>\n",
       "    .dataframe tbody tr th:only-of-type {\n",
       "        vertical-align: middle;\n",
       "    }\n",
       "\n",
       "    .dataframe tbody tr th {\n",
       "        vertical-align: top;\n",
       "    }\n",
       "\n",
       "    .dataframe thead th {\n",
       "        text-align: right;\n",
       "    }\n",
       "</style>\n",
       "<table border=\"1\" class=\"dataframe\">\n",
       "  <thead>\n",
       "    <tr style=\"text-align: right;\">\n",
       "      <th></th>\n",
       "      <th>sepal length (cm)</th>\n",
       "      <th>sepal width (cm)</th>\n",
       "      <th>petal length (cm)</th>\n",
       "      <th>petal width (cm)</th>\n",
       "      <th>actual_class</th>\n",
       "      <th>predicted_class</th>\n",
       "    </tr>\n",
       "  </thead>\n",
       "  <tbody>\n",
       "    <tr>\n",
       "      <th>0</th>\n",
       "      <td>6.1</td>\n",
       "      <td>2.8</td>\n",
       "      <td>4.7</td>\n",
       "      <td>1.2</td>\n",
       "      <td>1</td>\n",
       "      <td>1</td>\n",
       "    </tr>\n",
       "    <tr>\n",
       "      <th>1</th>\n",
       "      <td>5.7</td>\n",
       "      <td>3.8</td>\n",
       "      <td>1.7</td>\n",
       "      <td>0.3</td>\n",
       "      <td>0</td>\n",
       "      <td>0</td>\n",
       "    </tr>\n",
       "    <tr>\n",
       "      <th>2</th>\n",
       "      <td>7.7</td>\n",
       "      <td>2.6</td>\n",
       "      <td>6.9</td>\n",
       "      <td>2.3</td>\n",
       "      <td>2</td>\n",
       "      <td>2</td>\n",
       "    </tr>\n",
       "    <tr>\n",
       "      <th>3</th>\n",
       "      <td>6.0</td>\n",
       "      <td>2.9</td>\n",
       "      <td>4.5</td>\n",
       "      <td>1.5</td>\n",
       "      <td>1</td>\n",
       "      <td>1</td>\n",
       "    </tr>\n",
       "  </tbody>\n",
       "</table>\n",
       "</div>"
      ],
      "text/plain": [
       "   sepal length (cm)  sepal width (cm)  petal length (cm)  petal width (cm)  \\\n",
       "0                6.1               2.8                4.7               1.2   \n",
       "1                5.7               3.8                1.7               0.3   \n",
       "2                7.7               2.6                6.9               2.3   \n",
       "3                6.0               2.9                4.5               1.5   \n",
       "\n",
       "   actual_class  predicted_class  \n",
       "0             1                1  \n",
       "1             0                0  \n",
       "2             2                2  \n",
       "3             1                1  "
      ]
     },
     "execution_count": 72,
     "metadata": {},
     "output_type": "execute_result"
    }
   ],
   "source": [
    "predictions = loaded_model.predict(X_test)\n",
    "\n",
    "iris_feature_names = datasets.load_iris().feature_names\n",
    "\n",
    "result = pd.DataFrame(X_test, columns=iris_feature_names)\n",
    "result[\"actual_class\"] = y_test\n",
    "result[\"predicted_class\"] = predictions\n",
    "\n",
    "result[:4]"
   ]
  }
 ],
 "metadata": {
  "kernelspec": {
   "display_name": "ocr_p7",
   "language": "python",
   "name": "python3"
  },
  "language_info": {
   "codemirror_mode": {
    "name": "ipython",
    "version": 3
   },
   "file_extension": ".py",
   "mimetype": "text/x-python",
   "name": "python",
   "nbconvert_exporter": "python",
   "pygments_lexer": "ipython3",
   "version": "3.8.20"
  }
 },
 "nbformat": 4,
 "nbformat_minor": 5
}
